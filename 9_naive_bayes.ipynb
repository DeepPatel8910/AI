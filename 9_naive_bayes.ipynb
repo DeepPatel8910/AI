{
  "cells": [
    {
      "cell_type": "code",
      "execution_count": 1,
      "metadata": {
        "colab": {
          "base_uri": "https://localhost:8080/"
        },
        "id": "WEa8G_dj_B4f",
        "outputId": "eec72418-7430-4b60-a1ce-baf1a2740bf6"
      },
      "outputs": [
        {
          "name": "stdout",
          "output_type": "stream",
          "text": [
            "Total number of examples: 442\n",
            "Training examples: 309\n",
            "Test examples: 133\n",
            "Accuracy of the model: 42.857142857142854\n"
          ]
        }
      ],
      "source": [
        "import math\n",
        "import random\n",
        "import pandas as pd\n",
        "import numpy as np\n",
        "from sklearn.datasets import load_diabetes\n",
        "\n",
        "def encode_class(mydata):\n",
        "    classes = []\n",
        "    for i in range(len(mydata)):\n",
        "        if mydata[i][-1] not in classes:\n",
        "            classes.append(mydata[i][-1])\n",
        "    for i in range(len(classes)):\n",
        "        for j in range(len(mydata)):\n",
        "            if mydata[j][-1] == classes[i]:\n",
        "                mydata[j][-1] = i\n",
        "    return mydata\n",
        "\n",
        "def splitting(mydata, ratio):\n",
        "    train_num = int(len(mydata) * ratio)\n",
        "    train = []\n",
        "    test = list(mydata)\n",
        "    while len(train) < train_num:\n",
        "        index = random.randrange(len(test))\n",
        "        train.append(test.pop(index))\n",
        "    return train, test\n",
        "\n",
        "def groupUnderClass(mydata):\n",
        "    data_dict = {}\n",
        "    for i in range(len(mydata)):\n",
        "        if mydata[i][-1] not in data_dict:\n",
        "            data_dict[mydata[i][-1]] = []\n",
        "        data_dict[mydata[i][-1]].append(mydata[i])\n",
        "    return data_dict\n",
        "\n",
        "def MeanAndStdDev(numbers):\n",
        "    avg = np.mean(numbers)\n",
        "    stddev = np.std(numbers)\n",
        "    return avg, stddev\n",
        "\n",
        "def MeanAndStdDevForClass(mydata):\n",
        "    info = {}\n",
        "    data_dict = groupUnderClass(mydata)\n",
        "    for classValue, instances in data_dict.items():\n",
        "        info[classValue] = [MeanAndStdDev(attribute) for attribute in zip(*instances)]\n",
        "    return info\n",
        "\n",
        "def calculateGaussianProbability(x, mean, stdev):\n",
        "    epsilon = 1e-10\n",
        "    expo = math.exp(-(math.pow(x - mean, 2) / (2 * math.pow(stdev + epsilon, 2))))\n",
        "    return (1 / (math.sqrt(2 * math.pi) * (stdev + epsilon))) * expo\n",
        "\n",
        "def calculateClassProbabilities(info, test):\n",
        "    probabilities = {}\n",
        "    for classValue, classSummaries in info.items():\n",
        "        probabilities[classValue] = 1\n",
        "        for i in range(len(classSummaries)):\n",
        "            mean, std_dev = classSummaries[i]\n",
        "            x = test[i]\n",
        "            probabilities[classValue] *= calculateGaussianProbability(x, mean, std_dev)\n",
        "    return probabilities\n",
        "\n",
        "def predict(info, test):\n",
        "    probabilities = calculateClassProbabilities(info, test)\n",
        "    bestLabel = max(probabilities, key=probabilities.get)\n",
        "    return bestLabel\n",
        "\n",
        "def getPredictions(info, test):\n",
        "    predictions = [predict(info, instance) for instance in test]\n",
        "    return predictions\n",
        "\n",
        "def accuracy_rate(test, predictions):\n",
        "    correct = sum(1 for i in range(len(test)) if test[i][-1] == predictions[i])\n",
        "    return (correct / float(len(test))) * 100.0\n",
        "\n",
        "# Load data using sklearn\n",
        "diabetes = load_diabetes()\n",
        "X, y = diabetes.data, diabetes.target\n",
        "mydata = np.column_stack((X, y))\n",
        "# Encode classes and convert attributes to float\n",
        "mydata = encode_class(mydata)\n",
        "\n",
        "# Split the data into training and testing sets\n",
        "ratio = 0.7\n",
        "train_data, test_data = splitting(mydata, ratio)\n",
        "print('Total number of examples:', len(mydata))\n",
        "print('Training examples:', len(train_data))\n",
        "print('Test examples:', len(test_data))\n",
        "\n",
        "# Train the model\n",
        "info = MeanAndStdDevForClass(train_data)\n",
        "# Test the model\n",
        "predictions = getPredictions(info, test_data)\n",
        "accuracy = accuracy_rate(test_data, predictions)\n",
        "print('Accuracy of the model:', accuracy)\n"
      ]
    }
  ],
  "metadata": {
    "colab": {
      "provenance": []
    },
    "kernelspec": {
      "display_name": "Python 3",
      "name": "python3"
    },
    "language_info": {
      "codemirror_mode": {
        "name": "ipython",
        "version": 3
      },
      "file_extension": ".py",
      "mimetype": "text/x-python",
      "name": "python",
      "nbconvert_exporter": "python",
      "pygments_lexer": "ipython3",
      "version": "3.11.4"
    }
  },
  "nbformat": 4,
  "nbformat_minor": 0
}
