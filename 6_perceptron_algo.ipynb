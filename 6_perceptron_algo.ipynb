{
  "cells": [
    {
      "cell_type": "code",
      "execution_count": 1,
      "metadata": {
        "id": "XEoJzETQmq51"
      },
      "outputs": [],
      "source": [
        "import numpy as np\n",
        "class Perceptron:\n",
        "  def __init__(self, learning_rate, epochs):\n",
        "    self.weights = None\n",
        "    self.bias = None\n",
        "    self.learning_rate = learning_rate\n",
        "    self.epochs = epochs\n",
        "\n",
        "  def activation(self, z):\n",
        "    return np.heaviside(z, 0)\n",
        "\n",
        "  def fit(self, X, y):\n",
        "    n_features = X.shape[1]\n",
        "    self.weights = np.zeros((n_features))\n",
        "    self.bias = 0\n",
        "    for epoch in range(self.epochs):\n",
        "      for i in range(len(X)):\n",
        "        z = np.dot(X, self.weights) + self.bias\n",
        "        y_pred = self.activation(z)\n",
        "\n",
        "        self.weights = self.weights + self.learning_rate * (y[i] - y_pred[i]) * X[i]\n",
        "        self.bias = self.bias + self.learning_rate * (y[i] - y_pred[i])\n",
        "    return self.weights, self.bias\n",
        "\n",
        "  def predict(self, X):\n",
        "    z = np.dot(X, self.weights) + self.bias\n",
        "    return self.activation(z)\n",
        "\n",
        "from sklearn.datasets import load_iris\n",
        "from sklearn.model_selection import train_test_split\n",
        "import numpy as np\n",
        "\n",
        "iris = load_iris()\n",
        "X = iris.data[:, (0, 1)]\n",
        "y = (iris.target == 0).astype(int)\n",
        "\n",
        "X_train, X_test, y_train, y_test = train_test_split(X, y, test_size=0.5, random_state=42)\n",
        "\n",
        "perceptron = Perceptron(0.001, 100)\n",
        "\n",
        "perceptron.fit(X_train, y_train)\n",
        "\n",
        "pred = perceptron.predict(X_test)"
      ]
    },
    {
      "cell_type": "code",
      "execution_count": 2,
      "metadata": {
        "colab": {
          "base_uri": "https://localhost:8080/"
        },
        "id": "QRyGR50UpEvK",
        "outputId": "76b327ba-3a9f-417b-986f-0bc67ac7f7aa"
      },
      "outputs": [
        {
          "data": {
            "text/plain": [
              "0.96"
            ]
          },
          "execution_count": 2,
          "metadata": {},
          "output_type": "execute_result"
        }
      ],
      "source": [
        "from sklearn.metrics import accuracy_score\n",
        "accuracy_score(pred, y_test)"
      ]
    },
    {
      "cell_type": "code",
      "execution_count": 3,
      "metadata": {
        "colab": {
          "base_uri": "https://localhost:8080/"
        },
        "id": "hn4W8LzepF1Y",
        "outputId": "f05da465-f972-4d41-9b0c-c50e134e9780"
      },
      "outputs": [
        {
          "name": "stdout",
          "output_type": "stream",
          "text": [
            "              precision    recall  f1-score   support\n",
            "\n",
            "         0.0       0.93      1.00      0.97        43\n",
            "         1.0       1.00      0.91      0.95        32\n",
            "\n",
            "    accuracy                           0.96        75\n",
            "   macro avg       0.97      0.95      0.96        75\n",
            "weighted avg       0.96      0.96      0.96        75\n",
            "\n"
          ]
        }
      ],
      "source": [
        "from sklearn.metrics import classification_report\n",
        "report = classification_report(pred, y_test, digits=2)\n",
        "print(report)"
      ]
    },
    {
      "cell_type": "code",
      "execution_count": 4,
      "metadata": {
        "colab": {
          "base_uri": "https://localhost:8080/"
        },
        "id": "UbOTpKVApI5E",
        "outputId": "50896164-d965-4090-96bb-fa9b82309d66"
      },
      "outputs": [
        {
          "data": {
            "text/plain": [
              "0.88"
            ]
          },
          "execution_count": 4,
          "metadata": {},
          "output_type": "execute_result"
        }
      ],
      "source": [
        "from sklearn.linear_model import Perceptron\n",
        "sk_perceptron = Perceptron()\n",
        "sk_perceptron.fit(X_train, y_train)\n",
        "sk_perceptron_pred = sk_perceptron.predict(X_test)\n",
        "# Accuracy\n",
        "accuracy_score(sk_perceptron_pred, y_test)\n"
      ]
    }
  ],
  "metadata": {
    "colab": {
      "provenance": []
    },
    "kernelspec": {
      "display_name": "Python 3",
      "name": "python3"
    },
    "language_info": {
      "codemirror_mode": {
        "name": "ipython",
        "version": 3
      },
      "file_extension": ".py",
      "mimetype": "text/x-python",
      "name": "python",
      "nbconvert_exporter": "python",
      "pygments_lexer": "ipython3",
      "version": "3.11.4"
    }
  },
  "nbformat": 4,
  "nbformat_minor": 0
}
